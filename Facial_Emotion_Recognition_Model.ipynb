{
 "cells": [
  {
   "cell_type": "code",
   "execution_count": 1,
   "metadata": {
    "colab": {
     "base_uri": "https://localhost:8080/",
     "height": 34
    },
    "colab_type": "code",
    "executionInfo": {
     "elapsed": 4196,
     "status": "ok",
     "timestamp": 1562259858475,
     "user": {
      "displayName": "Rahul Gupta",
      "photoUrl": "",
      "userId": "00217213121360127151"
     },
     "user_tz": -330
    },
    "id": "EhW0I2Kybgdn",
    "outputId": "dba663c4-0b13-4902-a1ee-220db8af944d"
   },
   "outputs": [
    {
     "name": "stderr",
     "output_type": "stream",
     "text": [
      "Using TensorFlow backend.\n"
     ]
    }
   ],
   "source": [
    "# This model is trained from Google Colab and the dataset was loaded from Google Drive\n",
    "# Importing the necessary libraries for building our Facial Emotion Recognition Model\n",
    "\n",
    "import numpy as np\n",
    "import pandas as pd\n",
    "import cv2 as cv\n",
    "import random as rd\n",
    "import matplotlib.pyplot as plt\n",
    "import os \n",
    "import math\n",
    "from keras.models import Sequential as sql,load_model\n",
    "from keras.layers import Conv2D as con,MaxPooling2D as mxpool,AveragePooling2D as avpool,Dense as ds,Flatten as flat,Dropout as drop\n",
    "from google.colab import drive as dv,files "
   ]
  },
  {
   "cell_type": "code",
   "execution_count": 2,
   "metadata": {
    "colab": {
     "base_uri": "https://localhost:8080/",
     "height": 34
    },
    "colab_type": "code",
    "executionInfo": {
     "elapsed": 4136,
     "status": "ok",
     "timestamp": 1562259858483,
     "user": {
      "displayName": "Rahul Gupta",
      "photoUrl": "",
      "userId": "00217213121360127151"
     },
     "user_tz": -330
    },
    "id": "NejS_TJ1buFc",
    "outputId": "221129bc-e631-4e29-e384-a7e6d4c26b66"
   },
   "outputs": [
    {
     "name": "stdout",
     "output_type": "stream",
     "text": [
      "Drive already mounted at /content/drive; to attempt to forcibly remount, call drive.mount(\"/content/drive\", force_remount=True).\n"
     ]
    }
   ],
   "source": [
    "# Connecting to Google Drive and mounting it on Google Colab\n",
    "\n",
    "dv.mount('/content/drive')"
   ]
  },
  {
   "cell_type": "code",
   "execution_count": 0,
   "metadata": {
    "colab": {},
    "colab_type": "code",
    "id": "LQAZhUqxbgd_"
   },
   "outputs": [],
   "source": [
    "# Importing the Dataset and reading the CSV file using Pandas \n",
    "\n",
    "path='/content/drive/My Drive/ai_project/'\n",
    "dataset=pd.read_csv(path+'dataset/fer2013.csv')\n",
    "dataset.replace(['Training'],0,inplace=True)\n",
    "dataset.replace(['PublicTest','PrivateTest'],1,inplace=True)"
   ]
  },
  {
   "cell_type": "code",
   "execution_count": 4,
   "metadata": {
    "colab": {
     "base_uri": "https://localhost:8080/",
     "height": 206
    },
    "colab_type": "code",
    "executionInfo": {
     "elapsed": 8094,
     "status": "ok",
     "timestamp": 1562259862479,
     "user": {
      "displayName": "Rahul Gupta",
      "photoUrl": "",
      "userId": "00217213121360127151"
     },
     "user_tz": -330
    },
    "id": "I4Q-otMYbgeJ",
    "outputId": "0af3872f-3074-4208-d5d4-38a6921ccfcc"
   },
   "outputs": [
    {
     "data": {
      "text/html": [
       "<div>\n",
       "<style scoped>\n",
       "    .dataframe tbody tr th:only-of-type {\n",
       "        vertical-align: middle;\n",
       "    }\n",
       "\n",
       "    .dataframe tbody tr th {\n",
       "        vertical-align: top;\n",
       "    }\n",
       "\n",
       "    .dataframe thead th {\n",
       "        text-align: right;\n",
       "    }\n",
       "</style>\n",
       "<table border=\"1\" class=\"dataframe\">\n",
       "  <thead>\n",
       "    <tr style=\"text-align: right;\">\n",
       "      <th></th>\n",
       "      <th>emotion</th>\n",
       "      <th>pixels</th>\n",
       "      <th>Usage</th>\n",
       "    </tr>\n",
       "  </thead>\n",
       "  <tbody>\n",
       "    <tr>\n",
       "      <th>0</th>\n",
       "      <td>0</td>\n",
       "      <td>70 80 82 72 58 58 60 63 54 58 60 48 89 115 121...</td>\n",
       "      <td>0</td>\n",
       "    </tr>\n",
       "    <tr>\n",
       "      <th>1</th>\n",
       "      <td>0</td>\n",
       "      <td>151 150 147 155 148 133 111 140 170 174 182 15...</td>\n",
       "      <td>0</td>\n",
       "    </tr>\n",
       "    <tr>\n",
       "      <th>2</th>\n",
       "      <td>2</td>\n",
       "      <td>231 212 156 164 174 138 161 173 182 200 106 38...</td>\n",
       "      <td>0</td>\n",
       "    </tr>\n",
       "    <tr>\n",
       "      <th>3</th>\n",
       "      <td>4</td>\n",
       "      <td>24 32 36 30 32 23 19 20 30 41 21 22 32 34 21 1...</td>\n",
       "      <td>0</td>\n",
       "    </tr>\n",
       "    <tr>\n",
       "      <th>4</th>\n",
       "      <td>6</td>\n",
       "      <td>4 0 0 0 0 0 0 0 0 0 0 0 3 15 23 28 48 50 58 84...</td>\n",
       "      <td>0</td>\n",
       "    </tr>\n",
       "  </tbody>\n",
       "</table>\n",
       "</div>"
      ],
      "text/plain": [
       "   emotion                                             pixels  Usage\n",
       "0        0  70 80 82 72 58 58 60 63 54 58 60 48 89 115 121...      0\n",
       "1        0  151 150 147 155 148 133 111 140 170 174 182 15...      0\n",
       "2        2  231 212 156 164 174 138 161 173 182 200 106 38...      0\n",
       "3        4  24 32 36 30 32 23 19 20 30 41 21 22 32 34 21 1...      0\n",
       "4        6  4 0 0 0 0 0 0 0 0 0 0 0 3 15 23 28 48 50 58 84...      0"
      ]
     },
     "execution_count": 4,
     "metadata": {
      "tags": []
     },
     "output_type": "execute_result"
    }
   ],
   "source": [
    "dataset.head()\n",
    "\n",
    "# Details about the Different emotions \n",
    "# 0 ---> Angry\n",
    "# 1 ---> Disgust\n",
    "# 2 ---> Fear\n",
    "# 3 ---> Happy\n",
    "# 4 ---> Sad\n",
    "# 5 ---> Surprise\n",
    "# 6 ---> Neutral"
   ]
  },
  {
   "cell_type": "code",
   "execution_count": 0,
   "metadata": {
    "colab": {},
    "colab_type": "code",
    "id": "Y2E_PZ3LbgeU"
   },
   "outputs": [],
   "source": [
    "dataset=np.array(dataset)"
   ]
  },
  {
   "cell_type": "code",
   "execution_count": 6,
   "metadata": {
    "colab": {
     "base_uri": "https://localhost:8080/",
     "height": 34
    },
    "colab_type": "code",
    "executionInfo": {
     "elapsed": 8090,
     "status": "ok",
     "timestamp": 1562259862499,
     "user": {
      "displayName": "Rahul Gupta",
      "photoUrl": "",
      "userId": "00217213121360127151"
     },
     "user_tz": -330
    },
    "id": "8KJ-2Jwibgeb",
    "outputId": "ea1404f8-e8a4-416f-f2b9-9e15786d3e27"
   },
   "outputs": [
    {
     "name": "stdout",
     "output_type": "stream",
     "text": [
      "Shape of our Dataset :  (35887, 3)\n"
     ]
    }
   ],
   "source": [
    "print(\"Shape of our Dataset : \",dataset.shape)"
   ]
  },
  {
   "cell_type": "code",
   "execution_count": 0,
   "metadata": {
    "colab": {},
    "colab_type": "code",
    "id": "PX2XJ6T0fgnN"
   },
   "outputs": [],
   "source": [
    "# Separating the Training Data anD the Testing Data\n",
    "\n",
    "train,test=[],[]\n",
    "for values in dataset:\n",
    "  if values[2]==0:\n",
    "    train.append([values[0],values[1]])\n",
    "  elif values[2]==1:\n",
    "    test.append([values[0],values[1]])"
   ]
  },
  {
   "cell_type": "code",
   "execution_count": 0,
   "metadata": {
    "colab": {},
    "colab_type": "code",
    "id": "mN8RcJwAibg3"
   },
   "outputs": [],
   "source": [
    "train=np.array(train)\n",
    "test=np.array(test)"
   ]
  },
  {
   "cell_type": "code",
   "execution_count": 9,
   "metadata": {
    "colab": {
     "base_uri": "https://localhost:8080/",
     "height": 52
    },
    "colab_type": "code",
    "executionInfo": {
     "elapsed": 10590,
     "status": "ok",
     "timestamp": 1562259865024,
     "user": {
      "displayName": "Rahul Gupta",
      "photoUrl": "",
      "userId": "00217213121360127151"
     },
     "user_tz": -330
    },
    "id": "o7fGpBVAiNPX",
    "outputId": "f3352f5a-81c0-468d-da7e-f8a30ceaba70"
   },
   "outputs": [
    {
     "name": "stdout",
     "output_type": "stream",
     "text": [
      "Shape of Traininig Data :  (28709, 2)\n",
      "Shape of Testing Data :  (7178, 2)\n"
     ]
    }
   ],
   "source": [
    "print('Shape of Traininig Data : ',train.shape)\n",
    "print('Shape of Testing Data : ',test.shape)"
   ]
  },
  {
   "cell_type": "code",
   "execution_count": 0,
   "metadata": {
    "colab": {},
    "colab_type": "code",
    "id": "oimnEyXQlxNO"
   },
   "outputs": [],
   "source": [
    "# Function for separating the input x and the output y\n",
    "\n",
    "def get_xy_values(data):\n",
    "  x,y=[],[]\n",
    "  for values in data:\n",
    "    x.append([int(i) for i in values[1].split()])\n",
    "    y.append(int(values[0]))\n",
    "  return x,y  "
   ]
  },
  {
   "cell_type": "code",
   "execution_count": 0,
   "metadata": {
    "colab": {},
    "colab_type": "code",
    "id": "y5KazuR6oVlQ"
   },
   "outputs": [],
   "source": [
    "x_train,y_train=get_xy_values(train)\n",
    "x_test,y_test=get_xy_values(test)"
   ]
  },
  {
   "cell_type": "code",
   "execution_count": 0,
   "metadata": {
    "colab": {},
    "colab_type": "code",
    "id": "4zYUf5wesGy6"
   },
   "outputs": [],
   "source": [
    "x_train=np.array(x_train)\n",
    "y_train=np.array(y_train)\n",
    "x_test=np.array(x_test)\n",
    "y_test=np.array(y_test)"
   ]
  },
  {
   "cell_type": "code",
   "execution_count": 0,
   "metadata": {
    "colab": {},
    "colab_type": "code",
    "id": "apzQcS_ayY1Z"
   },
   "outputs": [],
   "source": [
    "x_train=x_train/255\n",
    "x_test=x_test/255"
   ]
  },
  {
   "cell_type": "code",
   "execution_count": 14,
   "metadata": {
    "colab": {
     "base_uri": "https://localhost:8080/",
     "height": 86
    },
    "colab_type": "code",
    "executionInfo": {
     "elapsed": 36641,
     "status": "ok",
     "timestamp": 1562259891110,
     "user": {
      "displayName": "Rahul Gupta",
      "photoUrl": "",
      "userId": "00217213121360127151"
     },
     "user_tz": -330
    },
    "id": "lyZPV6qDsNNM",
    "outputId": "e93d48a3-13fb-4041-d4aa-dce152f47bdb"
   },
   "outputs": [
    {
     "name": "stdout",
     "output_type": "stream",
     "text": [
      "Shape of x_train :  (28709, 48, 48, 1)\n",
      "Shape of y_train :  (28709, 1)\n",
      "Shape of x_test :  (7178, 48, 48, 1)\n",
      "Shape of y_test :  (7178, 1)\n"
     ]
    }
   ],
   "source": [
    "dimension=int(math.sqrt(x_train.shape[1]))\n",
    "x_train=x_train.reshape(x_train.shape[0],dimension,dimension,1)\n",
    "y_train=y_train.reshape(y_train.shape[0],1)\n",
    "x_test=x_test.reshape(x_test.shape[0],dimension,dimension,1)\n",
    "y_test=y_test.reshape(y_test.shape[0],1)\n",
    "print(\"Shape of x_train : \",x_train.shape)\n",
    "print(\"Shape of y_train : \",y_train.shape)\n",
    "print(\"Shape of x_test : \",x_test.shape)\n",
    "print(\"Shape of y_test : \",y_test.shape)"
   ]
  },
  {
   "cell_type": "code",
   "execution_count": 15,
   "metadata": {
    "colab": {
     "base_uri": "https://localhost:8080/",
     "height": 89
    },
    "colab_type": "code",
    "executionInfo": {
     "elapsed": 36644,
     "status": "ok",
     "timestamp": 1562259891116,
     "user": {
      "displayName": "Rahul Gupta",
      "photoUrl": "",
      "userId": "00217213121360127151"
     },
     "user_tz": -330
    },
    "id": "DZhB92-yyTDa",
    "outputId": "a6c21c2d-3d33-4abb-cfcd-b89555a5f9bd"
   },
   "outputs": [
    {
     "name": "stderr",
     "output_type": "stream",
     "text": [
      "WARNING: Logging before flag parsing goes to stderr.\n",
      "W0704 17:04:50.518591 140478534653824 deprecation_wrapper.py:119] From /usr/local/lib/python3.6/dist-packages/keras/backend/tensorflow_backend.py:74: The name tf.get_default_graph is deprecated. Please use tf.compat.v1.get_default_graph instead.\n",
      "\n"
     ]
    }
   ],
   "source": [
    "# Creating the CNN Model using Keras\n",
    "\n",
    "model=sql()\n",
    "\n",
    "# First layer of Convolution\n",
    "model.add(con(filters=64,kernel_size=(3,3),padding='SAME',activation='relu',strides=(1,1)))\n",
    "model.add(mxpool(padding='SAME',pool_size=(2,2),strides=(2,2)))\n",
    "\n",
    "# Second Layer of Convolution\n",
    "model.add(con(filters=128,kernel_size=(3,3),padding='SAME',activation='relu',strides=(1,1)))\n",
    "model.add(con(filters=128,kernel_size=(3,3),padding='SAME',activation='relu',strides=(1,1)))\n",
    "model.add(avpool(padding='SAME',pool_size=(2,2),strides=(2,2)))\n",
    "\n",
    "# Third Layer of Convolution\n",
    "model.add(con(filters=256,kernel_size=(3,3),padding='SAME',activation='relu',strides=(1,1)))\n",
    "model.add(con(filters=256,kernel_size=(3,3),padding='SAME',activation='relu',strides=(1,1)))\n",
    "model.add(avpool(padding='SAME',pool_size=(2,2),strides=(2,2)))\n",
    "\n",
    "model.add(flat())\n",
    "\n",
    "# First Layer of Neural Network\n",
    "model.add(ds(1024,activation='relu'))\n",
    "model.add(drop(0.2))\n",
    "\n",
    "# Second Layer of Neural Network\n",
    "model.add(ds(1024,activation='relu'))\n",
    "model.add(drop(0.2))\n",
    "\n",
    "model.add(ds(7,activation='softmax'))"
   ]
  },
  {
   "cell_type": "code",
   "execution_count": 16,
   "metadata": {
    "colab": {
     "base_uri": "https://localhost:8080/",
     "height": 72
    },
    "colab_type": "code",
    "executionInfo": {
     "elapsed": 36646,
     "status": "ok",
     "timestamp": 1562259891119,
     "user": {
      "displayName": "Rahul Gupta",
      "photoUrl": "",
      "userId": "00217213121360127151"
     },
     "user_tz": -330
    },
    "id": "kRgmizgY1pMz",
    "outputId": "9705c5ed-e16c-4eec-c640-12e5d9559afc"
   },
   "outputs": [
    {
     "name": "stderr",
     "output_type": "stream",
     "text": [
      "W0704 17:04:50.552300 140478534653824 deprecation_wrapper.py:119] From /usr/local/lib/python3.6/dist-packages/keras/optimizers.py:790: The name tf.train.Optimizer is deprecated. Please use tf.compat.v1.train.Optimizer instead.\n",
      "\n"
     ]
    }
   ],
   "source": [
    "model.compile(loss='sparse_categorical_crossentropy',optimizer='Adam',metrics=['accuracy'])"
   ]
  },
  {
   "cell_type": "code",
   "execution_count": 17,
   "metadata": {
    "colab": {
     "base_uri": "https://localhost:8080/",
     "height": 1000
    },
    "colab_type": "code",
    "executionInfo": {
     "elapsed": 541401,
     "status": "ok",
     "timestamp": 1562260395897,
     "user": {
      "displayName": "Rahul Gupta",
      "photoUrl": "",
      "userId": "00217213121360127151"
     },
     "user_tz": -330
    },
    "id": "cnpk6s0013Yu",
    "outputId": "6f248d03-0512-4f30-82fa-cc48c6039ca8"
   },
   "outputs": [
    {
     "name": "stderr",
     "output_type": "stream",
     "text": [
      "W0704 17:04:50.580931 140478534653824 deprecation_wrapper.py:119] From /usr/local/lib/python3.6/dist-packages/keras/backend/tensorflow_backend.py:517: The name tf.placeholder is deprecated. Please use tf.compat.v1.placeholder instead.\n",
      "\n",
      "W0704 17:04:50.586349 140478534653824 deprecation_wrapper.py:119] From /usr/local/lib/python3.6/dist-packages/keras/backend/tensorflow_backend.py:4138: The name tf.random_uniform is deprecated. Please use tf.random.uniform instead.\n",
      "\n",
      "W0704 17:04:50.603657 140478534653824 deprecation_wrapper.py:119] From /usr/local/lib/python3.6/dist-packages/keras/backend/tensorflow_backend.py:3976: The name tf.nn.max_pool is deprecated. Please use tf.nn.max_pool2d instead.\n",
      "\n",
      "W0704 17:04:50.629528 140478534653824 deprecation_wrapper.py:119] From /usr/local/lib/python3.6/dist-packages/keras/backend/tensorflow_backend.py:3980: The name tf.nn.avg_pool is deprecated. Please use tf.nn.avg_pool2d instead.\n",
      "\n",
      "W0704 17:04:50.674892 140478534653824 deprecation_wrapper.py:119] From /usr/local/lib/python3.6/dist-packages/keras/backend/tensorflow_backend.py:133: The name tf.placeholder_with_default is deprecated. Please use tf.compat.v1.placeholder_with_default instead.\n",
      "\n",
      "W0704 17:04:50.684263 140478534653824 deprecation.py:506] From /usr/local/lib/python3.6/dist-packages/keras/backend/tensorflow_backend.py:3445: calling dropout (from tensorflow.python.ops.nn_ops) with keep_prob is deprecated and will be removed in a future version.\n",
      "Instructions for updating:\n",
      "Please use `rate` instead of `keep_prob`. Rate should be set to `rate = 1 - keep_prob`.\n",
      "W0704 17:04:50.741916 140478534653824 deprecation_wrapper.py:119] From /usr/local/lib/python3.6/dist-packages/keras/backend/tensorflow_backend.py:3341: The name tf.log is deprecated. Please use tf.math.log instead.\n",
      "\n",
      "W0704 17:04:50.823241 140478534653824 deprecation.py:323] From /usr/local/lib/python3.6/dist-packages/tensorflow/python/ops/math_grad.py:1250: add_dispatch_support.<locals>.wrapper (from tensorflow.python.ops.array_ops) is deprecated and will be removed in a future version.\n",
      "Instructions for updating:\n",
      "Use tf.where in 2.0, which has the same broadcast rule as np.where\n"
     ]
    },
    {
     "name": "stdout",
     "output_type": "stream",
     "text": [
      "Train on 22967 samples, validate on 5742 samples\n",
      "Epoch 1/50\n",
      "22967/22967 [==============================] - 16s 717us/step - loss: 1.8167 - acc: 0.2447 - val_loss: 1.7996 - val_acc: 0.2435\n",
      "Epoch 2/50\n",
      "22967/22967 [==============================] - 10s 434us/step - loss: 1.7151 - acc: 0.3037 - val_loss: 1.5659 - val_acc: 0.3988\n",
      "Epoch 3/50\n",
      "22967/22967 [==============================] - 10s 439us/step - loss: 1.5036 - acc: 0.4169 - val_loss: 1.4003 - val_acc: 0.4586\n",
      "Epoch 4/50\n",
      "22967/22967 [==============================] - 10s 438us/step - loss: 1.3662 - acc: 0.4723 - val_loss: 1.2948 - val_acc: 0.5080\n",
      "Epoch 5/50\n",
      "22967/22967 [==============================] - 10s 436us/step - loss: 1.2616 - acc: 0.5180 - val_loss: 1.2041 - val_acc: 0.5462\n",
      "Epoch 6/50\n",
      "22967/22967 [==============================] - 10s 434us/step - loss: 1.1685 - acc: 0.5509 - val_loss: 1.1679 - val_acc: 0.5590\n",
      "Epoch 7/50\n",
      "22967/22967 [==============================] - 10s 432us/step - loss: 1.0802 - acc: 0.5899 - val_loss: 1.1607 - val_acc: 0.5745\n",
      "Epoch 8/50\n",
      "22967/22967 [==============================] - 10s 431us/step - loss: 0.9852 - acc: 0.6272 - val_loss: 1.1338 - val_acc: 0.5784\n",
      "Epoch 9/50\n",
      "22967/22967 [==============================] - 10s 432us/step - loss: 0.8874 - acc: 0.6674 - val_loss: 1.1670 - val_acc: 0.5721\n",
      "Epoch 10/50\n",
      "22967/22967 [==============================] - 10s 434us/step - loss: 0.7650 - acc: 0.7160 - val_loss: 1.2468 - val_acc: 0.5670\n",
      "Epoch 11/50\n",
      "22967/22967 [==============================] - 10s 434us/step - loss: 0.6504 - acc: 0.7601 - val_loss: 1.2925 - val_acc: 0.5812\n",
      "Epoch 12/50\n",
      "22967/22967 [==============================] - 10s 434us/step - loss: 0.5382 - acc: 0.8039 - val_loss: 1.4003 - val_acc: 0.5827\n",
      "Epoch 13/50\n",
      "22967/22967 [==============================] - 10s 437us/step - loss: 0.4474 - acc: 0.8378 - val_loss: 1.5246 - val_acc: 0.5798\n",
      "Epoch 14/50\n",
      "22967/22967 [==============================] - 10s 432us/step - loss: 0.3515 - acc: 0.8749 - val_loss: 1.7391 - val_acc: 0.5709\n",
      "Epoch 15/50\n",
      "22967/22967 [==============================] - 10s 434us/step - loss: 0.2962 - acc: 0.8955 - val_loss: 1.9030 - val_acc: 0.5730\n",
      "Epoch 16/50\n",
      "22967/22967 [==============================] - 10s 433us/step - loss: 0.2452 - acc: 0.9117 - val_loss: 2.0466 - val_acc: 0.5738\n",
      "Epoch 17/50\n",
      "22967/22967 [==============================] - 10s 433us/step - loss: 0.2211 - acc: 0.9221 - val_loss: 2.0398 - val_acc: 0.5758\n",
      "Epoch 18/50\n",
      "22967/22967 [==============================] - 10s 432us/step - loss: 0.1859 - acc: 0.9349 - val_loss: 2.2493 - val_acc: 0.5853\n",
      "Epoch 19/50\n",
      "22967/22967 [==============================] - 10s 432us/step - loss: 0.1714 - acc: 0.9402 - val_loss: 2.1617 - val_acc: 0.5756\n",
      "Epoch 20/50\n",
      "22967/22967 [==============================] - 10s 432us/step - loss: 0.1535 - acc: 0.9474 - val_loss: 2.3530 - val_acc: 0.5742\n",
      "Epoch 21/50\n",
      "22967/22967 [==============================] - 10s 432us/step - loss: 0.1394 - acc: 0.9517 - val_loss: 2.3581 - val_acc: 0.5745\n",
      "Epoch 22/50\n",
      "22967/22967 [==============================] - 10s 435us/step - loss: 0.1258 - acc: 0.9569 - val_loss: 2.4636 - val_acc: 0.5778\n",
      "Epoch 23/50\n",
      "22967/22967 [==============================] - 10s 434us/step - loss: 0.1237 - acc: 0.9571 - val_loss: 2.4920 - val_acc: 0.5691\n",
      "Epoch 24/50\n",
      "22967/22967 [==============================] - 10s 435us/step - loss: 0.1157 - acc: 0.9626 - val_loss: 2.5839 - val_acc: 0.5857\n",
      "Epoch 25/50\n",
      "22967/22967 [==============================] - 10s 432us/step - loss: 0.1076 - acc: 0.9636 - val_loss: 2.4930 - val_acc: 0.5772\n",
      "Epoch 26/50\n",
      "22967/22967 [==============================] - 10s 434us/step - loss: 0.1106 - acc: 0.9636 - val_loss: 2.5298 - val_acc: 0.5716\n",
      "Epoch 27/50\n",
      "22967/22967 [==============================] - 10s 433us/step - loss: 0.1024 - acc: 0.9663 - val_loss: 2.6092 - val_acc: 0.5742\n",
      "Epoch 28/50\n",
      "22967/22967 [==============================] - 10s 432us/step - loss: 0.1015 - acc: 0.9644 - val_loss: 2.5978 - val_acc: 0.5759\n",
      "Epoch 29/50\n",
      "22967/22967 [==============================] - 10s 433us/step - loss: 0.0904 - acc: 0.9691 - val_loss: 2.6200 - val_acc: 0.5766\n",
      "Epoch 30/50\n",
      "22967/22967 [==============================] - 10s 433us/step - loss: 0.0872 - acc: 0.9709 - val_loss: 2.7889 - val_acc: 0.5698\n",
      "Epoch 31/50\n",
      "22967/22967 [==============================] - 10s 432us/step - loss: 0.0934 - acc: 0.9687 - val_loss: 2.5583 - val_acc: 0.5787\n",
      "Epoch 32/50\n",
      "22967/22967 [==============================] - 10s 433us/step - loss: 0.0837 - acc: 0.9711 - val_loss: 2.9008 - val_acc: 0.5747\n",
      "Epoch 33/50\n",
      "22967/22967 [==============================] - 10s 432us/step - loss: 0.0886 - acc: 0.9720 - val_loss: 2.6726 - val_acc: 0.5761\n",
      "Epoch 34/50\n",
      "22967/22967 [==============================] - 10s 432us/step - loss: 0.0867 - acc: 0.9716 - val_loss: 2.8036 - val_acc: 0.5839\n",
      "Epoch 35/50\n",
      "22967/22967 [==============================] - 10s 434us/step - loss: 0.0841 - acc: 0.9720 - val_loss: 2.7149 - val_acc: 0.5839\n",
      "Epoch 36/50\n",
      "22967/22967 [==============================] - 10s 435us/step - loss: 0.0740 - acc: 0.9749 - val_loss: 2.7300 - val_acc: 0.5697\n",
      "Epoch 37/50\n",
      "22967/22967 [==============================] - 10s 434us/step - loss: 0.0784 - acc: 0.9732 - val_loss: 2.6968 - val_acc: 0.5853\n",
      "Epoch 38/50\n",
      "22967/22967 [==============================] - 10s 434us/step - loss: 0.0759 - acc: 0.9737 - val_loss: 2.6456 - val_acc: 0.5832\n",
      "Epoch 39/50\n",
      "22967/22967 [==============================] - 10s 433us/step - loss: 0.0655 - acc: 0.9773 - val_loss: 2.8637 - val_acc: 0.5825\n",
      "Epoch 40/50\n",
      "22967/22967 [==============================] - 10s 432us/step - loss: 0.0731 - acc: 0.9758 - val_loss: 2.7532 - val_acc: 0.5805\n",
      "Epoch 41/50\n",
      "22967/22967 [==============================] - 10s 434us/step - loss: 0.0686 - acc: 0.9780 - val_loss: 2.8219 - val_acc: 0.5742\n",
      "Epoch 42/50\n",
      "22967/22967 [==============================] - 10s 433us/step - loss: 0.0702 - acc: 0.9770 - val_loss: 2.7742 - val_acc: 0.5808\n",
      "Epoch 43/50\n",
      "22967/22967 [==============================] - 10s 432us/step - loss: 0.0641 - acc: 0.9790 - val_loss: 2.8708 - val_acc: 0.5794\n",
      "Epoch 44/50\n",
      "22967/22967 [==============================] - 10s 429us/step - loss: 0.0680 - acc: 0.9769 - val_loss: 2.9548 - val_acc: 0.5832\n",
      "Epoch 45/50\n",
      "22967/22967 [==============================] - 10s 432us/step - loss: 0.0738 - acc: 0.9753 - val_loss: 2.9016 - val_acc: 0.5829\n",
      "Epoch 46/50\n",
      "22967/22967 [==============================] - 10s 431us/step - loss: 0.0707 - acc: 0.9751 - val_loss: 2.6991 - val_acc: 0.5831\n",
      "Epoch 47/50\n",
      "22967/22967 [==============================] - 10s 432us/step - loss: 0.0613 - acc: 0.9788 - val_loss: 2.9049 - val_acc: 0.5803\n",
      "Epoch 48/50\n",
      "22967/22967 [==============================] - 10s 430us/step - loss: 0.0609 - acc: 0.9790 - val_loss: 2.9185 - val_acc: 0.5839\n",
      "Epoch 49/50\n",
      "22967/22967 [==============================] - 10s 431us/step - loss: 0.0664 - acc: 0.9786 - val_loss: 2.9272 - val_acc: 0.5812\n",
      "Epoch 50/50\n",
      "22967/22967 [==============================] - 10s 431us/step - loss: 0.0577 - acc: 0.9809 - val_loss: 2.8621 - val_acc: 0.5819\n"
     ]
    },
    {
     "data": {
      "text/plain": [
       "<keras.callbacks.History at 0x7fc363b618d0>"
      ]
     },
     "execution_count": 17,
     "metadata": {
      "tags": []
     },
     "output_type": "execute_result"
    }
   ],
   "source": [
    "model.fit(x_train,y_train,validation_split=0.2,batch_size=100,epochs=50)"
   ]
  },
  {
   "cell_type": "code",
   "execution_count": 0,
   "metadata": {
    "colab": {},
    "colab_type": "code",
    "id": "fYbaJ7jnCz_P"
   },
   "outputs": [],
   "source": [
    "model.save('facial_emotion_recognition_cnn.h5')"
   ]
  },
  {
   "cell_type": "code",
   "execution_count": 0,
   "metadata": {
    "colab": {},
    "colab_type": "code",
    "id": "M2m3ZPz4ULhM"
   },
   "outputs": [],
   "source": [
    "model.save_weights('facial_emotion_recognition_cnn_weights.h5')"
   ]
  },
  {
   "cell_type": "code",
   "execution_count": 0,
   "metadata": {
    "colab": {},
    "colab_type": "code",
    "id": "2Plf3medDD7J"
   },
   "outputs": [],
   "source": [
    "model=load_model('facial_emotion_recognition_cnn.h5')"
   ]
  },
  {
   "cell_type": "code",
   "execution_count": 0,
   "metadata": {
    "colab": {},
    "colab_type": "code",
    "id": "N--TiTpgUeLk"
   },
   "outputs": [],
   "source": [
    "model.load_weights('facial_emotion_recognition_cnn_weights.h5')"
   ]
  },
  {
   "cell_type": "code",
   "execution_count": 0,
   "metadata": {
    "colab": {},
    "colab_type": "code",
    "id": "Y_btNmfXEViC"
   },
   "outputs": [],
   "source": [
    "y_pred=model.predict(x_test)"
   ]
  },
  {
   "cell_type": "code",
   "execution_count": 0,
   "metadata": {
    "colab": {},
    "colab_type": "code",
    "id": "n1_IVBRQEctO"
   },
   "outputs": [],
   "source": [
    "index=0\n",
    "ctr=0\n",
    "for values in y_pred:\n",
    "  prob=np.argmax(values)\n",
    "  if prob==y_test[index]:\n",
    "    ctr+=1\n",
    "  index+=1\n",
    "  "
   ]
  },
  {
   "cell_type": "code",
   "execution_count": 29,
   "metadata": {
    "colab": {
     "base_uri": "https://localhost:8080/",
     "height": 34
    },
    "colab_type": "code",
    "executionInfo": {
     "elapsed": 989,
     "status": "ok",
     "timestamp": 1562269537251,
     "user": {
      "displayName": "Rahul Gupta",
      "photoUrl": "",
      "userId": "00217213121360127151"
     },
     "user_tz": -330
    },
    "id": "WPGnap1kGvdo",
    "outputId": "17997649-3e25-4052-f0bf-4d8090c044ce"
   },
   "outputs": [
    {
     "name": "stdout",
     "output_type": "stream",
     "text": [
      "Total No. of Correct Predictions :  4175 out of  7178 Accuracy :  58.16383393702982\n"
     ]
    }
   ],
   "source": [
    "print('Total No. of Correct Predictions : ',ctr,'out of ',len(y_test),\"Accuracy : \",(ctr/len(y_test))*100)"
   ]
  }
 ],
 "metadata": {
  "accelerator": "GPU",
  "colab": {
   "collapsed_sections": [],
   "name": "Facial_Emotion_Recognition.ipynb",
   "provenance": [],
   "version": "0.3.2"
  },
  "kernelspec": {
   "display_name": "Python 3",
   "language": "python",
   "name": "python3"
  },
  "language_info": {
   "codemirror_mode": {
    "name": "ipython",
    "version": 3
   },
   "file_extension": ".py",
   "mimetype": "text/x-python",
   "name": "python",
   "nbconvert_exporter": "python",
   "pygments_lexer": "ipython3",
   "version": "3.7.3"
  }
 },
 "nbformat": 4,
 "nbformat_minor": 1
}
