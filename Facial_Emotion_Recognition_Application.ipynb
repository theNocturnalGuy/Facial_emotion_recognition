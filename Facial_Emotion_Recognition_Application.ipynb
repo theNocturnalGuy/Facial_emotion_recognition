{
 "cells": [
  {
   "cell_type": "code",
   "execution_count": 1,
   "metadata": {},
   "outputs": [
    {
     "name": "stderr",
     "output_type": "stream",
     "text": [
      "Using TensorFlow backend.\n",
      "WARNING: Logging before flag parsing goes to stderr.\n",
      "W0705 01:33:15.945192 140475246520064 deprecation_wrapper.py:119] From /home/rahul/anaconda3/envs/pyenv37/lib/python3.7/site-packages/keras/backend/tensorflow_backend.py:517: The name tf.placeholder is deprecated. Please use tf.compat.v1.placeholder instead.\n",
      "\n",
      "W0705 01:33:15.974661 140475246520064 deprecation_wrapper.py:119] From /home/rahul/anaconda3/envs/pyenv37/lib/python3.7/site-packages/keras/backend/tensorflow_backend.py:4138: The name tf.random_uniform is deprecated. Please use tf.random.uniform instead.\n",
      "\n",
      "W0705 01:33:15.993576 140475246520064 deprecation_wrapper.py:119] From /home/rahul/anaconda3/envs/pyenv37/lib/python3.7/site-packages/keras/backend/tensorflow_backend.py:3976: The name tf.nn.max_pool is deprecated. Please use tf.nn.max_pool2d instead.\n",
      "\n",
      "W0705 01:33:16.029979 140475246520064 deprecation_wrapper.py:119] From /home/rahul/anaconda3/envs/pyenv37/lib/python3.7/site-packages/keras/backend/tensorflow_backend.py:3980: The name tf.nn.avg_pool is deprecated. Please use tf.nn.avg_pool2d instead.\n",
      "\n",
      "W0705 01:33:16.082128 140475246520064 deprecation_wrapper.py:119] From /home/rahul/anaconda3/envs/pyenv37/lib/python3.7/site-packages/keras/backend/tensorflow_backend.py:131: The name tf.get_default_graph is deprecated. Please use tf.compat.v1.get_default_graph instead.\n",
      "\n",
      "W0705 01:33:16.083196 140475246520064 deprecation_wrapper.py:119] From /home/rahul/anaconda3/envs/pyenv37/lib/python3.7/site-packages/keras/backend/tensorflow_backend.py:133: The name tf.placeholder_with_default is deprecated. Please use tf.compat.v1.placeholder_with_default instead.\n",
      "\n",
      "W0705 01:33:16.094805 140475246520064 deprecation.py:506] From /home/rahul/anaconda3/envs/pyenv37/lib/python3.7/site-packages/keras/backend/tensorflow_backend.py:3445: calling dropout (from tensorflow.python.ops.nn_ops) with keep_prob is deprecated and will be removed in a future version.\n",
      "Instructions for updating:\n",
      "Please use `rate` instead of `keep_prob`. Rate should be set to `rate = 1 - keep_prob`.\n",
      "W0705 01:33:16.307290 140475246520064 deprecation_wrapper.py:119] From /home/rahul/anaconda3/envs/pyenv37/lib/python3.7/site-packages/keras/backend/tensorflow_backend.py:174: The name tf.get_default_session is deprecated. Please use tf.compat.v1.get_default_session instead.\n",
      "\n",
      "W0705 01:33:16.679035 140475246520064 deprecation_wrapper.py:119] From /home/rahul/anaconda3/envs/pyenv37/lib/python3.7/site-packages/keras/optimizers.py:790: The name tf.train.Optimizer is deprecated. Please use tf.compat.v1.train.Optimizer instead.\n",
      "\n",
      "W0705 01:33:16.777793 140475246520064 deprecation.py:323] From /home/rahul/anaconda3/envs/pyenv37/lib/python3.7/site-packages/tensorflow/python/ops/math_grad.py:1250: add_dispatch_support.<locals>.wrapper (from tensorflow.python.ops.array_ops) is deprecated and will be removed in a future version.\n",
      "Instructions for updating:\n",
      "Use tf.where in 2.0, which has the same broadcast rule as np.where\n"
     ]
    }
   ],
   "source": [
    "# Loading our existing trained model to test on Real-Time Human Face images \n",
    "\n",
    "import numpy as np\n",
    "import os\n",
    "import cv2 as cv\n",
    "import matplotlib.pyplot as plt\n",
    "from keras.models import load_model\n",
    "\n",
    "model=load_model('facial_emotion_recognition_cnn.h5')\n",
    "model.load_weights('facial_emotion_recognition_cnn_weights.h5')"
   ]
  },
  {
   "cell_type": "code",
   "execution_count": 2,
   "metadata": {},
   "outputs": [],
   "source": [
    "filename='FaridaJalal_2.jpg'\n",
    "path='dataset/test/'\n",
    "\n",
    "image=cv.imread(path+filename)"
   ]
  },
  {
   "cell_type": "code",
   "execution_count": 3,
   "metadata": {},
   "outputs": [
    {
     "data": {
      "text/plain": [
       "(298, 256, 3)"
      ]
     },
     "execution_count": 3,
     "metadata": {},
     "output_type": "execute_result"
    }
   ],
   "source": [
    "image.shape"
   ]
  },
  {
   "cell_type": "code",
   "execution_count": 4,
   "metadata": {},
   "outputs": [
    {
     "data": {
      "text/plain": [
       "(298, 256)"
      ]
     },
     "execution_count": 4,
     "metadata": {},
     "output_type": "execute_result"
    }
   ],
   "source": [
    "image=cv.cvtColor(image,cv.COLOR_BGR2GRAY)\n",
    "image.shape"
   ]
  },
  {
   "cell_type": "code",
   "execution_count": 5,
   "metadata": {},
   "outputs": [
    {
     "data": {
      "text/plain": [
       "(48, 48)"
      ]
     },
     "execution_count": 5,
     "metadata": {},
     "output_type": "execute_result"
    }
   ],
   "source": [
    "image=cv.resize(image,(48,48),interpolation=cv.INTER_AREA)\n",
    "image.shape"
   ]
  },
  {
   "cell_type": "code",
   "execution_count": 6,
   "metadata": {},
   "outputs": [
    {
     "data": {
      "text/plain": [
       "<matplotlib.image.AxesImage at 0x7fc29e6799e8>"
      ]
     },
     "execution_count": 6,
     "metadata": {},
     "output_type": "execute_result"
    },
    {
     "data": {
      "image/png": "[encoded data removed]",
      "text/plain": [
       "<Figure size 432x288 with 1 Axes>"
      ]
     },
     "metadata": {
      "needs_background": "light"
     },
     "output_type": "display_data"
    }
   ],
   "source": [
    "plt.imshow(image,cmap='gray')"
   ]
  },
  {
   "cell_type": "code",
   "execution_count": 8,
   "metadata": {},
   "outputs": [
    {
     "data": {
      "text/plain": [
       "(1, 48, 48, 1)"
      ]
     },
     "execution_count": 8,
     "metadata": {},
     "output_type": "execute_result"
    }
   ],
   "source": [
    "image=np.array(image)\n",
    "image=image.reshape(1,48,48,1)\n",
    "image.shape"
   ]
  },
  {
   "cell_type": "code",
   "execution_count": 18,
   "metadata": {},
   "outputs": [],
   "source": [
    "# Method to pre-process the input image like converting it into grayscale image, reshaping it etc...\n",
    "\n",
    "def preprocess_input_image(path,filename):\n",
    "    image=cv.imread(path+filename)\n",
    "    image=cv.cvtColor(image,cv.COLOR_BGR2GRAY)\n",
    "    image=cv.resize(image,(48,48),interpolation=cv.INTER_AREA)\n",
    "    plt.imshow(image,cmap='gray')\n",
    "    image=np.array(image)\n",
    "    image=image.reshape(1,48,48,1)\n",
    "    return image"
   ]
  },
  {
   "cell_type": "code",
   "execution_count": 20,
   "metadata": {},
   "outputs": [
    {
     "data": {
      "image/png": "[encoded data removed]",
      "text/plain": [
       "<Figure size 432x288 with 1 Axes>"
      ]
     },
     "metadata": {
      "needs_background": "light"
     },
     "output_type": "display_data"
    }
   ],
   "source": [
    "image=preprocess_input_image(path,filename)"
   ]
  },
  {
   "cell_type": "code",
   "execution_count": 21,
   "metadata": {},
   "outputs": [],
   "source": [
    "y_pred=model.predict(image)"
   ]
  },
  {
   "cell_type": "code",
   "execution_count": 22,
   "metadata": {},
   "outputs": [],
   "source": [
    "prob=np.argmax(y_pred)"
   ]
  },
  {
   "cell_type": "code",
   "execution_count": 26,
   "metadata": {},
   "outputs": [],
   "source": [
    "# Function that returns the actual emotion name predicted the CNN model from the input image \n",
    "\n",
    "def get_actual_emotion_name(image):\n",
    "    y_pred=model.predict(image)\n",
    "    probability=np.argmax(y_pred)\n",
    "    if probability==0: print('Its an Angry Face')\n",
    "    elif probability==1: print('Its a Disgust Face')\n",
    "    elif probability==2: print('Its a Fear Face')\n",
    "    elif probability==3: print('Its a Happy Face')\n",
    "    elif probability==4: print('Its a Sad Face')\n",
    "    elif probability==5: print('Its a Surprise Face')\n",
    "    elif probability==6: print('Its a Neutral Face')"
   ]
  },
  {
   "cell_type": "code",
   "execution_count": 24,
   "metadata": {},
   "outputs": [
    {
     "name": "stdout",
     "output_type": "stream",
     "text": [
      "Its a Fear Face\n"
     ]
    }
   ],
   "source": [
    "get_actual_emotion_name(prob)"
   ]
  },
  {
   "cell_type": "code",
   "execution_count": 74,
   "metadata": {},
   "outputs": [
    {
     "data": {
      "image/png": "[encoded data removed]",
      "text/plain": [
       "<Figure size 432x288 with 1 Axes>"
      ]
     },
     "metadata": {
      "needs_background": "light"
     },
     "output_type": "display_data"
    }
   ],
   "source": [
    "filename='Irani_37.jpg'                                                       # Image name\n",
    "path='dataset/test/'                                                          # Destination Directory\n",
    "image=preprocess_input_image(path,filename)"
   ]
  },
  {
   "cell_type": "code",
   "execution_count": 75,
   "metadata": {},
   "outputs": [
    {
     "name": "stdout",
     "output_type": "stream",
     "text": [
      "Its an Angry Face\n"
     ]
    }
   ],
   "source": [
    "get_actual_emotion_name(image)"
   ]
  },
  {
   "cell_type": "code",
   "execution_count": null,
   "metadata": {},
   "outputs": [],
   "source": [
    "# This is not a very well-performing model as it has given a testing accuracy of 58% approx.."
   ]
  }
 ],
 "metadata": {
  "kernelspec": {
   "display_name": "Python 3",
   "language": "python",
   "name": "python3"
  },
  "language_info": {
   "codemirror_mode": {
    "name": "ipython",
    "version": 3
   },
   "file_extension": ".py",
   "mimetype": "text/x-python",
   "name": "python",
   "nbconvert_exporter": "python",
   "pygments_lexer": "ipython3",
   "version": "3.7.3"
  }
 },
 "nbformat": 4,
 "nbformat_minor": 2
}
